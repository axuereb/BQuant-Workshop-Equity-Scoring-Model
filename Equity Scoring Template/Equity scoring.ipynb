{
 "cells": [
  {
   "cell_type": "code",
   "execution_count": 18,
   "metadata": {
    "collapsed": false,
    "deletable": true,
    "editable": true,
    "input_collapsed": true
   },
   "outputs": [],
   "source": [
    "import datetime\n",
    "from functools import reduce\n",
    "from IPython.display import display, clear_output\n",
    "from ipywidgets import VBox, HBox\n",
    "import math\n",
    "import pandas as pd\n",
    "\n",
    "import bql\n",
    "\n",
    "from equity_scoring import EquityScoringApp\n",
    "from utils_factors import BQLFunction, DescriptiveFactor, RankedFactor, ZScoreFactor, AllFactors\n",
    "from utils_general import get_fundamental_data, format_floats, current, prev, fy1, fy2, ltm, ntm, sntm\n",
    "\n",
    "\n",
    "bq = bql.Service()\n",
    "d = bq.data\n",
    "f = bq.func\n",
    "all_factors = AllFactors()"
   ]
  },
  {
   "cell_type": "markdown",
   "metadata": {
    "deletable": true,
    "editable": true
   },
   "source": [
    "### Descriptive data\n",
    "---\n",
    "\n",
    "HOW TO DEFINE/SHOW (OR NOT) YOUR DESCRIPTIVE DATA\n",
    "1. Define your descriptive data (see example below);\n",
    "2. Generate an instance of DescriptiveFactor (see below example):\n",
    " 1. Define the name;\n",
    " 2. Make sure that use_in_total_score=False to avoid it being used in the total factor scoring;\n",
    "3. To add a descriptive fields use the method \".add_factor\" (as in below example);\n",
    "4. Add your descriptive fields using \".append\" (as below) in \"all_factors\".\n",
    "\n",
    "You can hide the lot from the output by simply commenting out the line where you append descriptive_fields."
   ]
  },
  {
   "cell_type": "code",
   "execution_count": 19,
   "metadata": {
    "collapsed": false,
    "deletable": true,
    "editable": true
   },
   "outputs": [],
   "source": [
    "# Descriptive Data\n",
    "\n",
    "name = bq.data.name()\n",
    "sector = bq.data.icb_sector_name()\n",
    "country = bq.data.country_full_name()\n",
    "market_cap = bq.data.cur_mkt_cap()\n",
    "\n",
    "descriptive_fields = DescriptiveFactor(name='Descriptive', use_in_total_score=False)\n",
    "descriptive_fields.add_factor(name='Name', bql_function=name)\n",
    "descriptive_fields.add_factor(name='Sector', bql_function=sector)\n",
    "descriptive_fields.add_factor(name='Country', bql_function=country)\n",
    "descriptive_fields.add_factor(name='Mkt Cap (M)', bql_function=market_cap/1000000)\n",
    "\n",
    "all_factors.append(descriptive_fields)"
   ]
  },
  {
   "cell_type": "markdown",
   "metadata": {
    "deletable": true,
    "editable": true
   },
   "source": [
    "### Customising your factors\n",
    "---\n",
    "HOW TO CUSTOMISE/SHOW FACTORS OUTPUTS\n",
    "\n",
    "1. Define your factors\n",
    " 1. Create your factors (See below example) using Object Model BQL queries (as opposed to String Model);\n",
    " 2. A set of overrides are already available. Should you wish to create new ones:\n",
    "    - Go to \"utils general\" module;\n",
    "    - Create your override;\n",
    "    - Add it to the line \"import from utils_general import ...\" in the first cell.\n",
    "\n",
    "\n",
    "2. Two types of scoring your factors: Zscore and Rank\n",
    "   1. Z scoring and Rank scoring:\n",
    "      - Create an instance of ZScoreFactor/RankedFactor class respectively (as in below example)\n",
    "      - Add your scored factors using \".add_factor\" \n",
    "      - and specify name, \n",
    "      - bql_function: (defined in 1.)\n",
    "      - sign: (1 if large is better, -1 for the opposite)\n",
    "      - relative weight: for equal weight use \"1.\"\n",
    "\n",
    "NOTE: the instances of ZScoreFactor/RankedFactor have the same behaviour here\n",
    "(they inherit from the same class \"Factor\" located in \"utils_factors\" module)\n",
    "\n",
    "3. Add your scored factors using \".append\" (as below) in \"all_factors\""
   ]
  },
  {
   "cell_type": "code",
   "execution_count": 20,
   "metadata": {
    "collapsed": false,
    "deletable": true,
    "editable": true
   },
   "outputs": [],
   "source": [
    "# Value factors\n",
    "# Make sure we use the fundamental ticker for the fundamental data\n",
    "\n",
    "dividend_yield__ntm = get_fundamental_data(bq, bq.data.is_div_per_shr(**fy1)) / bq.data.px_last() * 100\n",
    "ev_ebitda__ntm = get_fundamental_data(bq, bq.data.ev_to_ebitda(**ntm))\n",
    "\n",
    "value_zscore = ZScoreFactor(name='Value Score', fillna_value=-2, use_in_total_score=True)\n",
    "# value_rank = RankedFactor(name='Value Score', use_in_total_score=True)\n",
    "value_zscore.add_factor(name='Dividend Yield (%) NTM', bql_function=dividend_yield__ntm, sign=1, relative_weight=2.)\n",
    "value_zscore.add_factor(name='EV to EBITDA NTM', bql_function=ev_ebitda__ntm, sign=-1, relative_weight=1.)\n",
    "\n",
    "all_factors.append(value_zscore)\n",
    "\n",
    "# value_fields = DescriptiveFactor(name='Value', bql_functions=value_zscore.bql_functions, use_in_total_score=False)\n",
    "# all_factors.append(value_fields)"
   ]
  },
  {
   "cell_type": "code",
   "execution_count": 21,
   "metadata": {
    "collapsed": false,
    "deletable": true,
    "editable": true
   },
   "outputs": [],
   "source": [
    "# Quality factors\n",
    "# Make sure we use the fundamental ticker for the fundamental data\n",
    "\n",
    "roe = get_fundamental_data(bq, bq.data.RETURN_COM_EQY(**prev))\n",
    "roa = get_fundamental_data(bq, bq.data.RETURN_ON_ASSET(**prev))\n",
    "\n",
    "quality_zscore = ZScoreFactor(name='Quality Score', fillna_value=-2, use_in_total_score=True)\n",
    "quality_zscore.add_factor(name='ROE', bql_function=roe, sign=1, relative_weight=1.)\n",
    "quality_zscore.add_factor(name='ROA', bql_function=roa, sign=1, relative_weight=1.)\n",
    "\n",
    "all_factors.append(quality_zscore)\n",
    "\n",
    "# quality_fields = DescriptiveFactor(name='Quality', bql_functions=quality_zscore.bql_functions, use_in_total_score=False)\n",
    "# all_factors.append(quality_fields)"
   ]
  },
  {
   "cell_type": "code",
   "execution_count": 22,
   "metadata": {
    "collapsed": true,
    "deletable": true,
    "editable": true
   },
   "outputs": [],
   "source": [
    "col_defs = [\n",
    "    {'headerName': 'Name', 'field': 'Name', 'width': 215, 'headerStyle': {'text-align': 'center'}},\n",
    "    {'headerName': 'Sector', 'field': 'Sector', 'width': 215, 'headerStyle': {'text-align': 'center'}},\n",
    "    {'headerName': 'Country', 'field': 'Country', 'width': 130, 'headerStyle': {'text-align': 'center'}},\n",
    "    \n",
    "    {'headerName': 'Mkt Cap (M)', 'field': 'Mkt Cap (M)', 'width': 130, 'headerStyle': {'text-align': 'center'}, 'cellStyle': {'text-align': 'right'}, 'filter': 'number'},\n",
    "    \n",
    "    # this is built in score\n",
    "    {'headerName': 'Total Score', 'field': 'Total Score', 'width': 120, 'headerStyle': {'text-align': 'center'}, 'cellStyle': {'text-align': 'right'}, 'filter': 'number'},\n",
    "    \n",
    "    {'headerName': 'Value Score', 'field': 'Value Score', 'width': 120, 'headerStyle': {'text-align': 'center'}, 'cellStyle': {'text-align': 'right'}, 'filter': 'number'},\n",
    "    {'headerName': 'Quality Score', 'field': 'Quality Score', 'width': 120, 'headerStyle': {'text-align': 'center'}, 'cellStyle': {'text-align': 'right'}, 'filter': 'number'},\n",
    "]"
   ]
  },
  {
   "cell_type": "code",
   "execution_count": 23,
   "metadata": {
    "collapsed": false,
    "deletable": true,
    "editable": true,
    "scrolled": false
   },
   "outputs": [
    {
     "data": {
      "application/vnd.jupyter.widget-view+json": {
       "model_id": "4d484fc45b924b019a71153702681329",
       "version_major": 2,
       "version_minor": 0
      },
      "text/plain": [
       "EquityScoringApp(children=(AppTitle(value='<h2 style=\"color: lightgrey; font-weight: bold;\">Equity Scoring</h2…"
      ]
     },
     "metadata": {},
     "output_type": "display_data"
    }
   ],
   "source": [
    "esm = EquityScoringApp(factors=all_factors, col_defs=col_defs, connection=bq, title='Equity Scoring', description=\"For a guide on building Equity Scoring models, please refer to the 'Guide' notebook.\")\n",
    "esm"
   ]
  }
 ],
 "metadata": {
  "input_collapsed": false,
  "kernelspec": {
   "display_name": "Python 3 (sandboxed)",
   "language": "python",
   "name": "python3"
  },
  "language_info": {
   "codemirror_mode": {
    "name": "ipython",
    "version": 3
   },
   "file_extension": ".py",
   "mimetype": "text/x-python",
   "name": "python",
   "nbconvert_exporter": "python",
   "pygments_lexer": "ipython3",
   "version": "3.5.5"
  }
 },
 "nbformat": 4,
 "nbformat_minor": 2
}
